{
 "cells": [
  {
   "cell_type": "code",
   "execution_count": 2,
   "id": "cc086be0",
   "metadata": {},
   "outputs": [
    {
     "name": "stdout",
     "output_type": "stream",
     "text": [
      "Masukan Nama :fahri\n",
      "Masukan Umur :69\n",
      "Masukan Tempat Tinggal :Manhattan\n",
      "Masukan Uang Tabungan Dalam Dollar1000000\n",
      "fahri tidak mencurigakan\n"
     ]
    }
   ],
   "source": [
    "#input biodata\n",
    "nama = input(\"Masukan Nama :\")\n",
    "umur = int(input(\"Masukan Umur :\"))\n",
    "tempat_tinggal = input(\"Masukan Tempat Tinggal :\")\n",
    "tabungan = float(input(\"Masukan Uang Tabungan Dalam Dollar :\"))\n",
    "\n",
    "#variabel pangkat\n",
    "pangkat = ''\n",
    "\n",
    "#pangkat Don\n",
    "if umur > 40:\n",
    "    if tempat_tinggal == 'Nevada' or tempat_tinggal == 'New York' or tempat_tinggal == 'Havana':\n",
    "        if tabungan > 1000000:\n",
    "            pangkat = 'Don'\n",
    "\n",
    "#pankat Underboss\n",
    "if umur <= 25 or umur <= 40:\n",
    "    if tempat_tinggal == 'New Jersey' or tempat_tinggal == 'Manhattan' or tempat_tinggal == 'Nevada':\n",
    "        if tabungan <= 1000000 or tabungan <= 2000000:\n",
    "            pangkat = 'Underboss'\n",
    "            \n",
    "#pangkat capo\n",
    "if 18 <= umur <= 24:\n",
    "    if tempat_tinggal == 'California' or tempat_tinggal == 'Detroit' or tempat_tinggal == 'Boston':\n",
    "        if tabungan < 1000000:\n",
    "            pangkat = 'Capo'\n",
    "            \n",
    "#output\n",
    "if pangkat:\n",
    "    print(f\"{nama} kemungkinan adalah seorang anggota mafia dengan pangkat {pangkat}\")\n",
    "else:\n",
    "    print(f\"{nama} tidak mencurigakan\")\n",
    "        "
   ]
  },
  {
   "cell_type": "code",
   "execution_count": null,
   "id": "7086ad55",
   "metadata": {},
   "outputs": [],
   "source": []
  }
 ],
 "metadata": {
  "kernelspec": {
   "display_name": "Python 3 (ipykernel)",
   "language": "python",
   "name": "python3"
  },
  "language_info": {
   "codemirror_mode": {
    "name": "ipython",
    "version": 3
   },
   "file_extension": ".py",
   "mimetype": "text/x-python",
   "name": "python",
   "nbconvert_exporter": "python",
   "pygments_lexer": "ipython3",
   "version": "3.11.5"
  }
 },
 "nbformat": 4,
 "nbformat_minor": 5
}
